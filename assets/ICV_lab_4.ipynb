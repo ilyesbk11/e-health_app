{
  "nbformat": 4,
  "nbformat_minor": 0,
  "metadata": {
    "colab": {
      "provenance": []
    },
    "kernelspec": {
      "name": "python3",
      "display_name": "Python 3"
    },
    "language_info": {
      "name": "python"
    }
  },
  "cells": [
    {
      "cell_type": "markdown",
      "source": [
        "##Introduction to Computer Vision Lab 4\n",
        "###By Mohamed Nguira"
      ],
      "metadata": {
        "id": "10Fzi0_fzikv"
      }
    },
    {
      "cell_type": "code",
      "source": [
        "import numpy as np"
      ],
      "metadata": {
        "id": "93Ajn037zntH"
      },
      "execution_count": null,
      "outputs": []
    },
    {
      "cell_type": "markdown",
      "source": [
        "##First Part:"
      ],
      "metadata": {
        "id": "cyxxI6Zy0Ydf"
      }
    },
    {
      "cell_type": "code",
      "execution_count": null,
      "metadata": {
        "id": "dGEi8gM0ula9"
      },
      "outputs": [],
      "source": [
        "def forwardSoftMax(g):\n",
        "    exp = np.exp(g - np.max(g))\n",
        "    return exp / exp.sum()\n",
        "def BackwardSoftMax(result, trueresult):\n",
        "    return result - trueresult\n",
        "\n",
        "\n",
        "\n",
        "\n"
      ]
    },
    {
      "cell_type": "code",
      "source": [
        "truelabels = [0,1,0,0,0,0,0]\n",
        "input = np.random.rand(7) * 1000\n",
        "\n",
        "print(\"Input: \",input)\n",
        "result = forwardSoftMax(input)\n",
        "print(\"Forward Softmax result: \" , result)\n",
        "backresult = BackwardSoftMax(result,truelabels)\n",
        "print(\"Back Propagation over SoftMax result: \",backresult)"
      ],
      "metadata": {
        "colab": {
          "base_uri": "https://localhost:8080/"
        },
        "id": "6fa0j3ZZztUy",
        "outputId": "e5552e6e-5654-4af1-c3f2-94dc7108f940"
      },
      "execution_count": null,
      "outputs": [
        {
          "output_type": "stream",
          "name": "stdout",
          "text": [
            "Input:  [852.73480872 229.94257455  13.22172075  20.43583493 470.72070497\n",
            " 247.131538   324.59594924]\n",
            "Forward Softmax result:  [1.00000000e+000 3.34787573e-271 0.00000000e+000 0.00000000e+000\n",
            " 1.23988879e-166 9.76880196e-264 4.28753471e-230]\n",
            "Back Propagation over SoftMax result:  [ 1.00000000e+000 -1.00000000e+000  0.00000000e+000  0.00000000e+000\n",
            "  1.23988879e-166  9.76880196e-264  4.28753471e-230]\n"
          ]
        }
      ]
    },
    {
      "cell_type": "markdown",
      "source": [
        "Second Part (with normalization)"
      ],
      "metadata": {
        "id": "ZmZXMhoO0bdD"
      }
    },
    {
      "cell_type": "code",
      "source": [
        "# @title Default title text\n",
        "def forwardSoftMax(g):\n",
        "     g = (g - np.min(result)) / (np.max(g) - np.min(g))\n",
        "     exp = np.exp(g - np.max(g))\n",
        "     result = exp / exp.sum(axis=0)\n",
        "     return result\n",
        "\n",
        "def BackwardSoftMax(result, trueresult):\n",
        "    return (result - trueresult) / (np.max(result) - np.min(result))\n",
        "\n",
        "\n",
        "\n",
        "\n"
      ],
      "metadata": {
        "id": "EN6ZDInd0ajH"
      },
      "execution_count": null,
      "outputs": []
    },
    {
      "cell_type": "code",
      "source": [
        "truelabels = [0,1,0,0,0,0,0]\n",
        "input = np.random.rand(7) * 1000\n",
        "\n",
        "print(\"Input: \",input)\n",
        "result = forwardSoftMax(input)\n",
        "print(\"Forward Softmax result: \" , result)\n",
        "backresult = BackwardSoftMax(result,truelabels)\n",
        "print(\"Back Propagation over SoftMax result: \",backresult)"
      ],
      "metadata": {
        "colab": {
          "base_uri": "https://localhost:8080/"
        },
        "id": "J32vLJNC1_t0",
        "outputId": "857b6d7f-049f-46b9-8bb5-e50bbc438269"
      },
      "execution_count": null,
      "outputs": [
        {
          "output_type": "stream",
          "name": "stdout",
          "text": [
            "Input:  [400.18932004 302.7760436  216.12518573 322.10644067 122.92599115\n",
            " 951.05261687 295.91762272]\n",
            "Forward Softmax result:  [5.79575349e-240 2.86458345e-282 6.68470819e-320 7.11453074e-274\n",
            " 0.00000000e+000 1.00000000e+000 3.00945003e-285]\n",
            "Back Propagation over SoftMax result:  [ 5.79575349e-240 -1.00000000e+000  6.68470819e-320  7.11453074e-274\n",
            "  0.00000000e+000  1.00000000e+000  3.00945003e-285]\n"
          ]
        }
      ]
    }
  ]
}